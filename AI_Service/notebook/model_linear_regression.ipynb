{
 "cells": [
  {
   "cell_type": "code",
   "execution_count": 4,
   "id": "94da488d-0f07-449a-a271-84050f6a0b5a",
   "metadata": {},
   "outputs": [],
   "source": [
    "import pandas as pd\n",
    "from sklearn.linear_model import LinearRegression\n",
    "import numpy as np\n",
    "\n",
    "# Contoh data\n",
    "data = [1000, 2000, 1500, 500, 1000]  # pengeluaran harian\n",
    "cumulative = np.cumsum(data)"
   ]
  },
  {
   "cell_type": "code",
   "execution_count": 8,
   "id": "b760df24-9051-41ff-bfb4-7a64a319c3d4",
   "metadata": {},
   "outputs": [
    {
     "data": {
      "text/plain": [
       "array([1000, 3000, 4500, 5000, 6000])"
      ]
     },
     "execution_count": 8,
     "metadata": {},
     "output_type": "execute_result"
    }
   ],
   "source": [
    "cumulative"
   ]
  },
  {
   "cell_type": "code",
   "execution_count": 10,
   "id": "f33d5469-3c30-4308-9c2c-2004991e5dbb",
   "metadata": {},
   "outputs": [],
   "source": [
    "# Siapkan data\n",
    "df = pd.DataFrame({\n",
    "    \"day\": np.arange(1, len(data)+1),\n",
    "    \"total_spending\": cumulative\n",
    "})"
   ]
  },
  {
   "cell_type": "code",
   "execution_count": 38,
   "id": "cdc90d42-c58e-4ac8-9472-4b44dd3ef265",
   "metadata": {},
   "outputs": [
    {
     "name": "stdout",
     "output_type": "stream",
     "text": [
      "Prediksi total pengeluaran di hari ke-6: Rp7500\n"
     ]
    }
   ],
   "source": [
    "# Model\n",
    "model_predict = LinearRegression()\n",
    "model_predict.fit(np.array(df[[\"day\"]]), np.array(df[\"total_spending\"]))\n",
    "\n",
    "# Prediksi total pengeluaran di hari ke-10\n",
    "day_target = 6\n",
    "prediction = model_predict.predict([[day_target]])\n",
    "\n",
    "print(f\"Prediksi total pengeluaran di hari ke-{day_target}: Rp{int(prediction[0])}\")\n"
   ]
  },
  {
   "cell_type": "code",
   "execution_count": 40,
   "id": "6c95387a-372d-41b2-be92-f239e3912f3a",
   "metadata": {},
   "outputs": [
    {
     "data": {
      "text/plain": [
       "['../app/models/predict_expense_model.pkl']"
      ]
     },
     "execution_count": 40,
     "metadata": {},
     "output_type": "execute_result"
    }
   ],
   "source": [
    "import joblib\n",
    "\n",
    "joblib.dump(model_predict,\"../app/models/predict_expense_model.pkl\")"
   ]
  },
  {
   "cell_type": "code",
   "execution_count": null,
   "id": "d0f8d2f3-03e7-4206-8ed3-27cc3c4389e9",
   "metadata": {},
   "outputs": [],
   "source": []
  }
 ],
 "metadata": {
  "kernelspec": {
   "display_name": "Python [conda env:base] *",
   "language": "python",
   "name": "conda-base-py"
  },
  "language_info": {
   "codemirror_mode": {
    "name": "ipython",
    "version": 3
   },
   "file_extension": ".py",
   "mimetype": "text/x-python",
   "name": "python",
   "nbconvert_exporter": "python",
   "pygments_lexer": "ipython3",
   "version": "3.12.7"
  }
 },
 "nbformat": 4,
 "nbformat_minor": 5
}
